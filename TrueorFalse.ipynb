{
  "nbformat": 4,
  "nbformat_minor": 0,
  "metadata": {
    "colab": {
      "name": "TrueorFalse.ipynb",
      "provenance": [],
      "collapsed_sections": [],
      "authorship_tag": "ABX9TyMDOYA/eoowap/otcEoaEg9",
      "include_colab_link": true
    },
    "kernelspec": {
      "name": "python3",
      "display_name": "Python 3"
    }
  },
  "cells": [
    {
      "cell_type": "markdown",
      "metadata": {
        "id": "view-in-github",
        "colab_type": "text"
      },
      "source": [
        "<a href=\"https://colab.research.google.com/github/keithmonreal/FTW/blob/master/TrueorFalse.ipynb\" target=\"_parent\"><img src=\"https://colab.research.google.com/assets/colab-badge.svg\" alt=\"Open In Colab\"/></a>"
      ]
    },
    {
      "cell_type": "markdown",
      "metadata": {
        "id": "JsyJeha8IXez",
        "colab_type": "text"
      },
      "source": [
        "Activity 09192020\n",
        "\n",
        "Pick a topic and create a simple quiz\n",
        "\n",
        "If about a topic, max 10 questions\n",
        "Prints details about the quiz taker\n",
        "Prints score\n",
        "Prints if pass or fail (70%) \n"
      ]
    },
    {
      "cell_type": "markdown",
      "metadata": {
        "id": "CcdzXgl9I5GJ",
        "colab_type": "text"
      },
      "source": [
        "Here are the questions that I would like to include in my quiz.\n",
        "\n",
        "1. A sneeze is faster than an eye blink T\n",
        "2. Olympic gold medal is made of silver T \n",
        "3. Chocolate is lethal to dogs. T\n",
        "4. Shrimp's heart is in its head. T \n",
        "5. Pigs cannot look up into the sky. T \n",
        "6. Fingernails grow faster than hair F \n",
        "7. A shark can blink its eyes T\n",
        "8. Snoopy is yellow in Brazil. F\n",
        "9. Gorilla's blood type is all B T \n",
        "10. Sandwich is named after a person. T "
      ]
    },
    {
      "cell_type": "markdown",
      "metadata": {
        "id": "UIoyzVnNUx00",
        "colab_type": "text"
      },
      "source": [
        "CODES FOR THE SIMPLE QUIZ"
      ]
    },
    {
      "cell_type": "markdown",
      "metadata": {
        "id": "6UYodmF0UpKv",
        "colab_type": "text"
      },
      "source": [
        "1. Get to know your user"
      ]
    },
    {
      "cell_type": "code",
      "metadata": {
        "id": "VSHZ79cgTirF",
        "colab_type": "code",
        "colab": {
          "base_uri": "https://localhost:8080/",
          "height": 187
        },
        "outputId": "97e1c302-5bfc-4d14-b175-6d89e8c2d3f3"
      },
      "source": [
        "# Give the user some context and get his or her name\n",
        "print(\"\\nAre you ready to take a quiz about everything under the sun?\")\n",
        "choice = input(\"Yes or No\\n\")\n",
        "\n",
        "if 'Yes' in str(choice):\n",
        "   print(\"\\nOkay, let's do this!.  But first, what is your name?\")\n",
        "else:\n",
        "  print(\"\\nOkay, whenever you're ready.\")\n",
        "\n",
        "name = input(\"Please input your beautiful name here:\\n\")\n",
        "\n",
        "print(\"\\nHi\" + \" \" + str(name) + \" \" + \"!\" + \" \" + \"Here is your first question.\")"
      ],
      "execution_count": 1,
      "outputs": [
        {
          "output_type": "stream",
          "text": [
            "\n",
            "Are you ready to take a quiz about everything under the sun?\n",
            "Yes or No\n",
            "Yes\n",
            "\n",
            "Okay, let's do this!.  But first, what is your name?\n",
            "Please input your beautiful name here:\n",
            "Keith\n",
            "\n",
            "Hi Keith ! Here is your first question.\n"
          ],
          "name": "stdout"
        }
      ]
    },
    {
      "cell_type": "markdown",
      "metadata": {
        "id": "5hQelH1JU1vN",
        "colab_type": "text"
      },
      "source": [
        "2. Set the list of questions and the right answers for each question in a separate list"
      ]
    },
    {
      "cell_type": "code",
      "metadata": {
        "id": "sYGjE5lgTiG_",
        "colab_type": "code",
        "colab": {}
      },
      "source": [
        "#set questions\n",
        "questions = [\"A sneeze is faster than an eye blink\",\n",
        "            \"Olympic gold medal is made of silver\",\n",
        "            \"Chocolate is lethal to dogs.\",\n",
        "            \"Shrimp's heart is in its head.\",\n",
        "            \"Pigs cannot look up into the sky.\",\n",
        "            \"Fingernails grow faster than hair\",\n",
        "            \"A shark can blink its eyes\",\n",
        "            \"Snoopy is yellow in Brazil.\",\n",
        "            \"Gorilla's blood type is all B\",\n",
        "            \"Sandwich is named after a person.\"]\n",
        "\n",
        "#set answers\n",
        "right_answers = [\"T\",\"T\",\"T\",\"T\",\"T\",\"F\",\"T\",\"F\",\"T\",\"T\"]"
      ],
      "execution_count": 2,
      "outputs": []
    },
    {
      "cell_type": "markdown",
      "metadata": {
        "id": "ibLyM0kgU8u9",
        "colab_type": "text"
      },
      "source": [
        "3. Initialize variables to be used in the while loop."
      ]
    },
    {
      "cell_type": "code",
      "metadata": {
        "id": "j4b9m-UZT6Dm",
        "colab_type": "code",
        "colab": {}
      },
      "source": [
        "#initialize the variables that will be used\n",
        "answers = []\n",
        "question_number = 0\n",
        "score = 0"
      ],
      "execution_count": 3,
      "outputs": []
    },
    {
      "cell_type": "markdown",
      "metadata": {
        "id": "KD_PHh0_VCdk",
        "colab_type": "text"
      },
      "source": [
        "4. Define function for computing the score if it is the end of the quiz"
      ]
    },
    {
      "cell_type": "code",
      "metadata": {
        "id": "Vtabw-bhT6nc",
        "colab_type": "code",
        "colab": {}
      },
      "source": [
        "#last_question\n",
        "def last_question(answers,score):\n",
        "      print(\"Your answers are\" + \" \" + str(answers)) \n",
        "      score = score/10\n",
        "      if score > 0.60:\n",
        "        print(\"Congratulations! You passed!\")\n",
        "      else:\n",
        "        print(\"You failed. It's okay, they are useless facts anyway.\")\n",
        "      score = \"{:.2%}\".format(score)\n",
        "      print(\"\\nYour score is\" + \" \" + str(score))"
      ],
      "execution_count": 4,
      "outputs": []
    },
    {
      "cell_type": "markdown",
      "metadata": {
        "id": "IID9G5WCVMhw",
        "colab_type": "text"
      },
      "source": [
        "5. Code the quiz proper"
      ]
    },
    {
      "cell_type": "code",
      "metadata": {
        "id": "l3TuaMHNUDKh",
        "colab_type": "code",
        "colab": {}
      },
      "source": [
        "#while loop for the question proper\n",
        "while question_number < 10:\n",
        "    print(\"\\n\" + str(questions[question_number]))\n",
        "    answer_n = input(\"\\nT or F \\n\")\n",
        "    answers.append(answer_n)\n",
        "    if answers[question_number] == right_answers[question_number]:\n",
        "       score = score + 1\n",
        "    question_number = question_number + 1\n",
        "    if question_number == 10:\n",
        "      last_question(answers,score)"
      ],
      "execution_count": 6,
      "outputs": []
    },
    {
      "cell_type": "markdown",
      "metadata": {
        "id": "sPyCQ8h9V-Jc",
        "colab_type": "text"
      },
      "source": [
        "6. Compile all of the codes 1-5 and run"
      ]
    },
    {
      "cell_type": "code",
      "metadata": {
        "id": "p6G77t1of9mG",
        "colab_type": "code",
        "colab": {
          "base_uri": "https://localhost:8080/",
          "height": 1000
        },
        "outputId": "eb0a1719-ad8c-459d-8052-565701130f8b"
      },
      "source": [
        "# Give the user some context and get his or her name\n",
        "print(\"\\nAre you ready to take a quiz about everything under the sun?\")\n",
        "choice = input(\"Yes or No\\n\")\n",
        "\n",
        "if 'Yes' in str(choice):\n",
        "   print(\"\\nOkay, let's do this!.  But first, what is your name?\")\n",
        "else:\n",
        "  print(\"\\nOkay, whenever you're ready.\")\n",
        "\n",
        "name = input(\"Please input your beautiful name here:\\n\")\n",
        "\n",
        "print(\"\\nHi\" + \" \" + str(name) + \" \" + \"!\" + \" \" + \"Here is your first question.\")\n",
        "\n",
        "#set questions\n",
        "questions = [\"A sneeze is faster than an eye blink\",\n",
        "            \"Olympic gold medal is made of silver\",\n",
        "            \"Chocolate is lethal to dogs.\",\n",
        "            \"Shrimp's heart is in its head.\",\n",
        "            \"Pigs cannot look up into the sky.\",\n",
        "            \"Fingernails grow faster than hair\",\n",
        "            \"A shark can blink its eyes\",\n",
        "            \"Snoopy is yellow in Brazil.\",\n",
        "            \"Gorilla's blood type is all B\",\n",
        "            \"Sandwich is named after a person.\"]\n",
        "\n",
        "#set the right answers\n",
        "right_answers = [\"T\",\"T\",\"T\",\"T\",\"T\",\"F\",\"T\",\"F\",\"T\",\"T\"]\n",
        "\n",
        "#initialize the variables that will be used\n",
        "answers = []\n",
        "question_number = 0\n",
        "score = 0\n",
        "\n",
        "#last_question\n",
        "def last_question(answers,score):\n",
        "      print(\"Your answers are\" + \" \" + str(answers)) \n",
        "      score = score/10\n",
        "      if score > 0.60:\n",
        "        print(\"Congratulations! You passed!\")\n",
        "      else:\n",
        "        print(\"You failed. It's okay, they are useless facts anyway.\")\n",
        "      score = \"{:.2%}\".format(score)\n",
        "      print(\"\\nYour score is\" + \" \" + str(score))\n",
        "  \n",
        "#while loop for the question proper\n",
        "while question_number < 10:\n",
        "    print(\"\\n\" + str(questions[question_number]))\n",
        "    answer_n = input(\"\\nT or F \\n\")\n",
        "    answers.append(answer_n)\n",
        "    if answers[question_number] == right_answers[question_number]:\n",
        "       score = score + 1\n",
        "    question_number = question_number + 1\n",
        "    if question_number == 10:\n",
        "      last_question(answers,score)"
      ],
      "execution_count": 8,
      "outputs": [
        {
          "output_type": "stream",
          "text": [
            "\n",
            "Are you ready to take a quiz about everything under the sun?\n",
            "Yes or No\n",
            "Yes\n",
            "\n",
            "Okay, let's do this!.  But first, what is your name?\n",
            "Please input your beautiful name here:\n",
            "Keith\n",
            "\n",
            "Hi Keith ! Here is your first question.\n",
            "\n",
            "A sneeze is faster than an eye blink\n",
            "\n",
            "T or F \n",
            "F\n",
            "\n",
            "Olympic gold medal is made of silver\n",
            "\n",
            "T or F \n",
            "\n",
            "\n",
            "Chocolate is lethal to dogs.\n",
            "\n",
            "T or F \n",
            "a\n",
            "\n",
            "Shrimp's heart is in its head.\n",
            "\n",
            "T or F \n",
            "\n",
            "\n",
            "Pigs cannot look up into the sky.\n",
            "\n",
            "T or F \n",
            "rr\n",
            "\n",
            "Fingernails grow faster than hair\n",
            "\n",
            "T or F \n",
            "ffffffff\n",
            "\n",
            "A shark can blink its eyes\n",
            "\n",
            "T or F \n",
            "r\n",
            "\n",
            "Snoopy is yellow in Brazil.\n",
            "\n",
            "T or F \n",
            "f\n",
            "\n",
            "Gorilla's blood type is all B\n",
            "\n",
            "T or F \n",
            "f\n",
            "\n",
            "Sandwich is named after a person.\n",
            "\n",
            "T or F \n",
            "d\n",
            "Your answers are ['F', '', 'a', '', 'rr', 'ffffffff', 'r', 'f', 'f', 'd']\n",
            "You failed. It's okay, they are useless facts anyway.\n",
            "\n",
            "Your score is 0.00%\n"
          ],
          "name": "stdout"
        }
      ]
    }
  ]
}