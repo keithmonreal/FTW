{
  "nbformat": 4,
  "nbformat_minor": 0,
  "metadata": {
    "colab": {
      "name": "TrueorFalse.ipynb",
      "provenance": [],
      "collapsed_sections": [],
      "authorship_tag": "ABX9TyPChENT+GJpVwwoZCYC+RSj",
      "include_colab_link": true
    },
    "kernelspec": {
      "name": "python3",
      "display_name": "Python 3"
    }
  },
  "cells": [
    {
      "cell_type": "markdown",
      "metadata": {
        "id": "view-in-github",
        "colab_type": "text"
      },
      "source": [
        "<a href=\"https://colab.research.google.com/github/keithmonreal/FTW/blob/master/TrueorFalse2.ipynb\" target=\"_parent\"><img src=\"https://colab.research.google.com/assets/colab-badge.svg\" alt=\"Open In Colab\"/></a>"
      ]
    },
    {
      "cell_type": "markdown",
      "metadata": {
        "id": "JsyJeha8IXez"
      },
      "source": [
        "\n",
        "Pick a topic and create a simple quiz\n",
        "\n",
        "If about a topic, max 10 questions\n",
        "Prints details about the quiz taker\n",
        "Prints score\n",
        "Prints if pass or fail (70%) \n"
      ]
    },
    {
      "cell_type": "markdown",
      "metadata": {
        "id": "CcdzXgl9I5GJ"
      },
      "source": [
        "Here are the questions that I would like to include in my quiz.\n",
        "\n",
        "1. A sneeze is faster than an eye blink T\n",
        "2. Olympic gold medal is made of silver T \n",
        "3. Chocolate is lethal to dogs. T\n",
        "4. Shrimp's heart is in its head. T \n",
        "5. Pigs cannot look up into the sky. T \n",
        "6. Fingernails grow faster than hair F \n",
        "7. A shark can blink its eyes T\n",
        "8. Snoopy is yellow in Brazil. F\n",
        "9. Gorilla's blood type is all B T \n",
        "10. Sandwich is named after a person. T "
      ]
    },
    {
      "cell_type": "markdown",
      "metadata": {
        "id": "UIoyzVnNUx00"
      },
      "source": [
        "CODES FOR THE SIMPLE QUIZ"
      ]
    },
    {
      "cell_type": "markdown",
      "metadata": {
        "id": "6UYodmF0UpKv"
      },
      "source": [
        "1. Get to know your user"
      ]
    },
    {
      "cell_type": "code",
      "metadata": {
        "id": "VSHZ79cgTirF",
        "outputId": "97e1c302-5bfc-4d14-b175-6d89e8c2d3f3",
        "colab": {
          "base_uri": "https://localhost:8080/",
          "height": 187
        }
      },
      "source": [
        "# Give the user some context and get his or her name\n",
        "print(\"\\nAre you ready to take a quiz about everything under the sun?\")\n",
        "choice = input(\"Yes or No\\n\")\n",
        "\n",
        "if 'Yes' in str(choice):\n",
        "   print(\"\\nOkay, let's do this!.  But first, what is your name?\")\n",
        "else:\n",
        "  print(\"\\nOkay, whenever you're ready.\")\n",
        "\n",
        "name = input(\"Please input your beautiful name here:\\n\")\n",
        "\n",
        "print(\"\\nHi\" + \" \" + str(name) + \" \" + \"!\" + \" \" + \"Here is your first question.\")"
      ],
      "execution_count": null,
      "outputs": [
        {
          "output_type": "stream",
          "text": [
            "\n",
            "Are you ready to take a quiz about everything under the sun?\n",
            "Yes or No\n",
            "Yes\n",
            "\n",
            "Okay, let's do this!.  But first, what is your name?\n",
            "Please input your beautiful name here:\n",
            "Keith\n",
            "\n",
            "Hi Keith ! Here is your first question.\n"
          ],
          "name": "stdout"
        }
      ]
    },
    {
      "cell_type": "markdown",
      "metadata": {
        "id": "5hQelH1JU1vN"
      },
      "source": [
        "2. Set the list of questions and the right answers for each question in a separate list"
      ]
    },
    {
      "cell_type": "code",
      "metadata": {
        "id": "sYGjE5lgTiG_"
      },
      "source": [
        "#set questions\n",
        "questions = [\"A sneeze is faster than an eye blink\",\n",
        "            \"Olympic gold medal is made of silver\",\n",
        "            \"Chocolate is lethal to dogs.\",\n",
        "            \"Shrimp's heart is in its head.\",\n",
        "            \"Pigs cannot look up into the sky.\",\n",
        "            \"Fingernails grow faster than hair\",\n",
        "            \"A shark can blink its eyes\",\n",
        "            \"Snoopy is yellow in Brazil.\",\n",
        "            \"Gorilla's blood type is all B\",\n",
        "            \"Sandwich is named after a person.\"]\n",
        "\n",
        "#set answers\n",
        "right_answers = [\"T\",\"T\",\"T\",\"T\",\"T\",\"F\",\"T\",\"F\",\"T\",\"T\"]"
      ],
      "execution_count": null,
      "outputs": []
    },
    {
      "cell_type": "markdown",
      "metadata": {
        "id": "ibLyM0kgU8u9"
      },
      "source": [
        "3. Initialize variables to be used in the while loop."
      ]
    },
    {
      "cell_type": "code",
      "metadata": {
        "id": "j4b9m-UZT6Dm"
      },
      "source": [
        "#initialize the variables that will be used\n",
        "answers = []\n",
        "question_number = 0\n",
        "score = 0"
      ],
      "execution_count": null,
      "outputs": []
    },
    {
      "cell_type": "markdown",
      "metadata": {
        "id": "KD_PHh0_VCdk"
      },
      "source": [
        "4. Define function for computing the score if it is the end of the quiz"
      ]
    },
    {
      "cell_type": "code",
      "metadata": {
        "id": "Vtabw-bhT6nc"
      },
      "source": [
        "#last_question\n",
        "def last_question(answers,score):\n",
        "      print(\"Your answers are\" + \" \" + str(answers)) \n",
        "      score = score/10\n",
        "      if score > 0.60:\n",
        "        print(\"Congratulations! You passed!\")\n",
        "      else:\n",
        "        print(\"You failed. It's okay, they are useless facts anyway.\")\n",
        "      score = \"{:.2%}\".format(score)\n",
        "      print(\"\\nYour score is\" + \" \" + str(score))"
      ],
      "execution_count": null,
      "outputs": []
    },
    {
      "cell_type": "markdown",
      "metadata": {
        "id": "IID9G5WCVMhw"
      },
      "source": [
        "5. Code the quiz proper"
      ]
    },
    {
      "cell_type": "code",
      "metadata": {
        "id": "l3TuaMHNUDKh"
      },
      "source": [
        "#while loop for the question proper\n",
        "while question_number < 10:\n",
        "    print(\"\\n\" + str(questions[question_number]))\n",
        "    answer_n = input(\"\\nT or F \\n\")\n",
        "    answers.append(answer_n)\n",
        "    if answers[question_number] == right_answers[question_number]:\n",
        "       score = score + 1\n",
        "    question_number = question_number + 1\n",
        "    if question_number == 10:\n",
        "      last_question(answers,score)"
      ],
      "execution_count": null,
      "outputs": []
    },
    {
      "cell_type": "markdown",
      "metadata": {
        "id": "sPyCQ8h9V-Jc"
      },
      "source": [
        "6. Compile all of the codes 1-5 and run"
      ]
    },
    {
      "cell_type": "code",
      "metadata": {
        "id": "p6G77t1of9mG",
        "outputId": "b5234f33-0d2f-4852-a76b-44845117ad88",
        "colab": {
          "base_uri": "https://localhost:8080/",
          "height": 593
        }
      },
      "source": [
        "userno = 0\n",
        "names = []\n",
        "scores = []\n",
        "\n",
        "#set questions\n",
        "questions = [\"A sneeze is faster than an eye blink\",\n",
        "              \"Olympic gold medal is made of silver\",\n",
        "              \"Chocolate is lethal to dogs.\",\n",
        "              \"Shrimp's heart is in its head.\",\n",
        "              \"Pigs cannot look up into the sky.\"]\n",
        "\n",
        "#set the right answers\n",
        "right_answers = [\"T\",\"T\",\"T\",\"T\",\"T\"]\n",
        "\n",
        "#last_question\n",
        "def last_question(name,answers,score):\n",
        "      print(\"Your answers are\" + \" \" + str(answers)) \n",
        "      score = score/5\n",
        "      if score > 0.60:\n",
        "        print(\"Congratulations! You passed!\")\n",
        "      else:\n",
        "        print(\"You failed. It's okay, they are useless facts anyway.\")\n",
        "      score = \"{:.2%}\".format(score)\n",
        "      print(\"\\nYour score is\" + \" \" + str(score))\n",
        "      \n",
        "      names.append(name)\n",
        "      scores.append(score)\n",
        "\n",
        "      print(\"\\nHere are other players' scores\")\n",
        "      print(names)\n",
        "      print(scores)\n",
        "\n",
        "def user():\n",
        "\n",
        "    print(\"\\nWhat is your name\\n\")\n",
        "    name = input(\"\\nPlease write your name here\\n\")\n",
        "    print(\"\\nHi\" + \" \" + str(name) + \" \" + \"!\" + \" \" + \"Here is your first question.\")\n",
        "\n",
        "    #initialize the variables that will be used\n",
        "    answers = []\n",
        "    question_number = 0\n",
        "    score = 0\n",
        "  \n",
        "    #while loop for the question proper\n",
        "    while question_number < 5:\n",
        "        print(\"\\n\" + str(questions[question_number]))\n",
        "        answer_n = input(\"\\nT or F \\n\")\n",
        "        answers.append(answer_n)\n",
        "        if answers[question_number] == right_answers[question_number]:\n",
        "          score = score + 1\n",
        "        question_number = question_number + 1\n",
        "        if question_number == 5:\n",
        "          last_question(name,answers,score)\n",
        "          \n",
        "    print(\"\\nPlay Again?\\n\")\n",
        "    next_user = input(\"\\nYes or No\")\n",
        "\n",
        "    if 'Yes' in str(next_user):\n",
        "    \n",
        "      global scores\n",
        "      global names    \n",
        "      global userno\n",
        "      userno = userno + 1\n",
        "\n",
        "      if userno < 3 :\n",
        "        user()\n",
        "      else:\n",
        "        print(\"Sorry, only the first 3 players are allowed\\nHere are the final players\")\n",
        "        print(names)\n",
        "        print(scores)\n",
        "\n",
        "    else:\n",
        "      print(\"Goodbye\")\n",
        "\n",
        "def master():\n",
        "  print(\"Do you want to add or delete questions\")\n",
        "  adddel = input(\"Add or Delete\")\n",
        "\n",
        "  if 'Add' in str(adddel):\n",
        "    deletequestions()\n",
        "  else:\n",
        "    addquestions()\n",
        "\n",
        "# PROGRAM PROPER\n",
        "print(\"\\nHi, are you a new user or a quiz master\")\n",
        "choice = input(\"\\nUser or Quiz Master\\n\")\n",
        "\n",
        "if 'User' in str(choice):\n",
        "   user()\n",
        "\n",
        "else:\n",
        "   master()"
      ],
      "execution_count": 42,
      "outputs": [
        {
          "output_type": "stream",
          "text": [
            "\n",
            "Hi, are you a new user or a quiz master\n"
          ],
          "name": "stdout"
        },
        {
          "output_type": "error",
          "ename": "KeyboardInterrupt",
          "evalue": "ignored",
          "traceback": [
            "\u001b[0;31m---------------------------------------------------------------------------\u001b[0m",
            "\u001b[0;31mKeyboardInterrupt\u001b[0m                         Traceback (most recent call last)",
            "\u001b[0;32m/usr/local/lib/python3.6/dist-packages/ipykernel/kernelbase.py\u001b[0m in \u001b[0;36m_input_request\u001b[0;34m(self, prompt, ident, parent, password)\u001b[0m\n\u001b[1;32m    728\u001b[0m             \u001b[0;32mtry\u001b[0m\u001b[0;34m:\u001b[0m\u001b[0;34m\u001b[0m\u001b[0;34m\u001b[0m\u001b[0m\n\u001b[0;32m--> 729\u001b[0;31m                 \u001b[0mident\u001b[0m\u001b[0;34m,\u001b[0m \u001b[0mreply\u001b[0m \u001b[0;34m=\u001b[0m \u001b[0mself\u001b[0m\u001b[0;34m.\u001b[0m\u001b[0msession\u001b[0m\u001b[0;34m.\u001b[0m\u001b[0mrecv\u001b[0m\u001b[0;34m(\u001b[0m\u001b[0mself\u001b[0m\u001b[0;34m.\u001b[0m\u001b[0mstdin_socket\u001b[0m\u001b[0;34m,\u001b[0m \u001b[0;36m0\u001b[0m\u001b[0;34m)\u001b[0m\u001b[0;34m\u001b[0m\u001b[0;34m\u001b[0m\u001b[0m\n\u001b[0m\u001b[1;32m    730\u001b[0m             \u001b[0;32mexcept\u001b[0m \u001b[0mException\u001b[0m\u001b[0;34m:\u001b[0m\u001b[0;34m\u001b[0m\u001b[0;34m\u001b[0m\u001b[0m\n",
            "\u001b[0;32m/usr/local/lib/python3.6/dist-packages/jupyter_client/session.py\u001b[0m in \u001b[0;36mrecv\u001b[0;34m(self, socket, mode, content, copy)\u001b[0m\n\u001b[1;32m    802\u001b[0m         \u001b[0;32mtry\u001b[0m\u001b[0;34m:\u001b[0m\u001b[0;34m\u001b[0m\u001b[0;34m\u001b[0m\u001b[0m\n\u001b[0;32m--> 803\u001b[0;31m             \u001b[0mmsg_list\u001b[0m \u001b[0;34m=\u001b[0m \u001b[0msocket\u001b[0m\u001b[0;34m.\u001b[0m\u001b[0mrecv_multipart\u001b[0m\u001b[0;34m(\u001b[0m\u001b[0mmode\u001b[0m\u001b[0;34m,\u001b[0m \u001b[0mcopy\u001b[0m\u001b[0;34m=\u001b[0m\u001b[0mcopy\u001b[0m\u001b[0;34m)\u001b[0m\u001b[0;34m\u001b[0m\u001b[0;34m\u001b[0m\u001b[0m\n\u001b[0m\u001b[1;32m    804\u001b[0m         \u001b[0;32mexcept\u001b[0m \u001b[0mzmq\u001b[0m\u001b[0;34m.\u001b[0m\u001b[0mZMQError\u001b[0m \u001b[0;32mas\u001b[0m \u001b[0me\u001b[0m\u001b[0;34m:\u001b[0m\u001b[0;34m\u001b[0m\u001b[0;34m\u001b[0m\u001b[0m\n",
            "\u001b[0;32m/usr/local/lib/python3.6/dist-packages/zmq/sugar/socket.py\u001b[0m in \u001b[0;36mrecv_multipart\u001b[0;34m(self, flags, copy, track)\u001b[0m\n\u001b[1;32m    490\u001b[0m         \"\"\"\n\u001b[0;32m--> 491\u001b[0;31m         \u001b[0mparts\u001b[0m \u001b[0;34m=\u001b[0m \u001b[0;34m[\u001b[0m\u001b[0mself\u001b[0m\u001b[0;34m.\u001b[0m\u001b[0mrecv\u001b[0m\u001b[0;34m(\u001b[0m\u001b[0mflags\u001b[0m\u001b[0;34m,\u001b[0m \u001b[0mcopy\u001b[0m\u001b[0;34m=\u001b[0m\u001b[0mcopy\u001b[0m\u001b[0;34m,\u001b[0m \u001b[0mtrack\u001b[0m\u001b[0;34m=\u001b[0m\u001b[0mtrack\u001b[0m\u001b[0;34m)\u001b[0m\u001b[0;34m]\u001b[0m\u001b[0;34m\u001b[0m\u001b[0;34m\u001b[0m\u001b[0m\n\u001b[0m\u001b[1;32m    492\u001b[0m         \u001b[0;31m# have first part already, only loop while more to receive\u001b[0m\u001b[0;34m\u001b[0m\u001b[0;34m\u001b[0m\u001b[0;34m\u001b[0m\u001b[0m\n",
            "\u001b[0;32mzmq/backend/cython/socket.pyx\u001b[0m in \u001b[0;36mzmq.backend.cython.socket.Socket.recv\u001b[0;34m()\u001b[0m\n",
            "\u001b[0;32mzmq/backend/cython/socket.pyx\u001b[0m in \u001b[0;36mzmq.backend.cython.socket.Socket.recv\u001b[0;34m()\u001b[0m\n",
            "\u001b[0;32mzmq/backend/cython/socket.pyx\u001b[0m in \u001b[0;36mzmq.backend.cython.socket._recv_copy\u001b[0;34m()\u001b[0m\n",
            "\u001b[0;32m/usr/local/lib/python3.6/dist-packages/zmq/backend/cython/checkrc.pxd\u001b[0m in \u001b[0;36mzmq.backend.cython.checkrc._check_rc\u001b[0;34m()\u001b[0m\n",
            "\u001b[0;31mKeyboardInterrupt\u001b[0m: ",
            "\nDuring handling of the above exception, another exception occurred:\n",
            "\u001b[0;31mKeyboardInterrupt\u001b[0m                         Traceback (most recent call last)",
            "\u001b[0;32m<ipython-input-42-bc7545a3227f>\u001b[0m in \u001b[0;36m<module>\u001b[0;34m()\u001b[0m\n\u001b[1;32m     76\u001b[0m \u001b[0;31m# PROGRAM PROPER\u001b[0m\u001b[0;34m\u001b[0m\u001b[0;34m\u001b[0m\u001b[0;34m\u001b[0m\u001b[0m\n\u001b[1;32m     77\u001b[0m \u001b[0mprint\u001b[0m\u001b[0;34m(\u001b[0m\u001b[0;34m\"\\nHi, are you a new user or a quiz master\"\u001b[0m\u001b[0;34m)\u001b[0m\u001b[0;34m\u001b[0m\u001b[0;34m\u001b[0m\u001b[0m\n\u001b[0;32m---> 78\u001b[0;31m \u001b[0mchoice\u001b[0m \u001b[0;34m=\u001b[0m \u001b[0minput\u001b[0m\u001b[0;34m(\u001b[0m\u001b[0;34m\"\\nUser or Quiz Master\\n\"\u001b[0m\u001b[0;34m)\u001b[0m\u001b[0;34m\u001b[0m\u001b[0;34m\u001b[0m\u001b[0m\n\u001b[0m\u001b[1;32m     79\u001b[0m \u001b[0;34m\u001b[0m\u001b[0m\n\u001b[1;32m     80\u001b[0m \u001b[0;32mif\u001b[0m \u001b[0;34m'User'\u001b[0m \u001b[0;32min\u001b[0m \u001b[0mstr\u001b[0m\u001b[0;34m(\u001b[0m\u001b[0mchoice\u001b[0m\u001b[0;34m)\u001b[0m\u001b[0;34m:\u001b[0m\u001b[0;34m\u001b[0m\u001b[0;34m\u001b[0m\u001b[0m\n",
            "\u001b[0;32m/usr/local/lib/python3.6/dist-packages/ipykernel/kernelbase.py\u001b[0m in \u001b[0;36mraw_input\u001b[0;34m(self, prompt)\u001b[0m\n\u001b[1;32m    702\u001b[0m             \u001b[0mself\u001b[0m\u001b[0;34m.\u001b[0m\u001b[0m_parent_ident\u001b[0m\u001b[0;34m,\u001b[0m\u001b[0;34m\u001b[0m\u001b[0;34m\u001b[0m\u001b[0m\n\u001b[1;32m    703\u001b[0m             \u001b[0mself\u001b[0m\u001b[0;34m.\u001b[0m\u001b[0m_parent_header\u001b[0m\u001b[0;34m,\u001b[0m\u001b[0;34m\u001b[0m\u001b[0;34m\u001b[0m\u001b[0m\n\u001b[0;32m--> 704\u001b[0;31m             \u001b[0mpassword\u001b[0m\u001b[0;34m=\u001b[0m\u001b[0;32mFalse\u001b[0m\u001b[0;34m,\u001b[0m\u001b[0;34m\u001b[0m\u001b[0;34m\u001b[0m\u001b[0m\n\u001b[0m\u001b[1;32m    705\u001b[0m         )\n\u001b[1;32m    706\u001b[0m \u001b[0;34m\u001b[0m\u001b[0m\n",
            "\u001b[0;32m/usr/local/lib/python3.6/dist-packages/ipykernel/kernelbase.py\u001b[0m in \u001b[0;36m_input_request\u001b[0;34m(self, prompt, ident, parent, password)\u001b[0m\n\u001b[1;32m    732\u001b[0m             \u001b[0;32mexcept\u001b[0m \u001b[0mKeyboardInterrupt\u001b[0m\u001b[0;34m:\u001b[0m\u001b[0;34m\u001b[0m\u001b[0;34m\u001b[0m\u001b[0m\n\u001b[1;32m    733\u001b[0m                 \u001b[0;31m# re-raise KeyboardInterrupt, to truncate traceback\u001b[0m\u001b[0;34m\u001b[0m\u001b[0;34m\u001b[0m\u001b[0;34m\u001b[0m\u001b[0m\n\u001b[0;32m--> 734\u001b[0;31m                 \u001b[0;32mraise\u001b[0m \u001b[0mKeyboardInterrupt\u001b[0m\u001b[0;34m\u001b[0m\u001b[0;34m\u001b[0m\u001b[0m\n\u001b[0m\u001b[1;32m    735\u001b[0m             \u001b[0;32melse\u001b[0m\u001b[0;34m:\u001b[0m\u001b[0;34m\u001b[0m\u001b[0;34m\u001b[0m\u001b[0m\n\u001b[1;32m    736\u001b[0m                 \u001b[0;32mbreak\u001b[0m\u001b[0;34m\u001b[0m\u001b[0;34m\u001b[0m\u001b[0m\n",
            "\u001b[0;31mKeyboardInterrupt\u001b[0m: "
          ]
        }
      ]
    },
    {
      "cell_type": "code",
      "metadata": {
        "id": "fkjjmwXd5jtW",
        "outputId": "49e0d210-d960-4d2a-97e7-04647cb61fa2",
        "colab": {
          "base_uri": "https://localhost:8080/",
          "height": 50
        }
      },
      "source": [
        "x = \"global \"\n",
        "\n",
        "def foo():\n",
        "    global x\n",
        "    y = \"local\"\n",
        "    x = x * 2\n",
        "    print(x)\n",
        "    print(y)\n",
        "\n",
        "foo()"
      ],
      "execution_count": 30,
      "outputs": [
        {
          "output_type": "stream",
          "text": [
            "global global \n",
            "local\n"
          ],
          "name": "stdout"
        }
      ]
    }
  ]
}